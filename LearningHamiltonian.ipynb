{
  "nbformat": 4,
  "nbformat_minor": 0,
  "metadata": {
    "colab": {
      "name": "LearningHamiltonian.ipynb",
      "provenance": [],
      "collapsed_sections": [],
      "include_colab_link": true
    },
    "kernelspec": {
      "name": "python3",
      "display_name": "Python 3"
    },
    "accelerator": "GPU"
  },
  "cells": [
    {
      "cell_type": "markdown",
      "metadata": {
        "id": "view-in-github",
        "colab_type": "text"
      },
      "source": [
        "<a href=\"https://colab.research.google.com/github/fraison/HNN/blob/master/LearningHamiltonian.ipynb\" target=\"_parent\"><img src=\"https://colab.research.google.com/assets/colab-badge.svg\" alt=\"Open In Colab\"/></a>"
      ]
    },
    {
      "cell_type": "markdown",
      "metadata": {
        "id": "N6k2dSBH9mog",
        "colab_type": "text"
      },
      "source": [
        "## First: Make sure GPUs are enabled in this notebook from Edit->Notebook Settings."
      ]
    },
    {
      "cell_type": "markdown",
      "metadata": {
        "id": "lwjX_FN6FeDA",
        "colab_type": "text"
      },
      "source": [
        "# Here we use a Hamiltonian NN to predict the trajectory of a particle"
      ]
    },
    {
      "cell_type": "code",
      "metadata": {
        "id": "IAt4vgx_6Iqn",
        "colab_type": "code",
        "colab": {}
      },
      "source": [
        "import numpy as np\n",
        "import torch\n",
        "from torch import nn\n",
        "from matplotlib import pyplot as plt"
      ],
      "execution_count": 14,
      "outputs": []
    },
    {
      "cell_type": "code",
      "metadata": {
        "id": "i4GhEhCJ849v",
        "colab_type": "code",
        "colab": {}
      },
      "source": [
        "n_coordinates = 2\n",
        "hidden = 400"
      ],
      "execution_count": 15,
      "outputs": []
    },
    {
      "cell_type": "markdown",
      "metadata": {
        "id": "Yt0C4RejSvCa",
        "colab_type": "text"
      },
      "source": [
        "# Let's set up a simulation of a 2D falling ball, launched at a random speed:"
      ]
    },
    {
      "cell_type": "code",
      "metadata": {
        "id": "4nlv9V1w8_EO",
        "colab_type": "code",
        "colab": {}
      },
      "source": [
        "N = 3000\n",
        "p0 = np.random.rand(N, 2)\n",
        "v0 = np.random.rand(N, 2)"
      ],
      "execution_count": 16,
      "outputs": []
    },
    {
      "cell_type": "code",
      "metadata": {
        "id": "WnC5Rt8EzpOm",
        "colab_type": "code",
        "colab": {
          "base_uri": "https://localhost:8080/",
          "height": 35
        },
        "outputId": "af9dd101-c310-4454-c61c-e5600e0ba069"
      },
      "source": [
        "p0[0]\n"
      ],
      "execution_count": 17,
      "outputs": [
        {
          "output_type": "execute_result",
          "data": {
            "text/plain": [
              "array([0.41395783, 0.87492924])"
            ]
          },
          "metadata": {
            "tags": []
          },
          "execution_count": 17
        }
      ]
    },
    {
      "cell_type": "code",
      "metadata": {
        "id": "vUz5yOupBbyF",
        "colab_type": "code",
        "colab": {}
      },
      "source": [
        "p = []\n",
        "v = []\n",
        "T = 300\n",
        "\n",
        "cp = p0\n",
        "cv = v0\n",
        "for _ in range(T):\n",
        "  cp = cp + cv*0.01\n",
        "  cv = cv + 0.01*(-9.81)*np.array([0, 1])[np.newaxis, :]\n",
        "\n",
        "  p.append(cp)\n",
        "  v.append(cv)\n",
        "\n",
        "p = np.array(p).transpose(1, 0, 2)\n",
        "v = np.array(v).transpose(1, 0, 2)"
      ],
      "execution_count": 18,
      "outputs": []
    },
    {
      "cell_type": "code",
      "metadata": {
        "id": "cYjEcpTV0Y4D",
        "colab_type": "code",
        "colab": {
          "base_uri": "https://localhost:8080/",
          "height": 35
        },
        "outputId": "7ff4c86d-e55c-4f54-a11f-a281432234c0"
      },
      "source": [
        "p.shape"
      ],
      "execution_count": 19,
      "outputs": [
        {
          "output_type": "execute_result",
          "data": {
            "text/plain": [
              "(3000, 300, 2)"
            ]
          },
          "metadata": {
            "tags": []
          },
          "execution_count": 19
        }
      ]
    },
    {
      "cell_type": "markdown",
      "metadata": {
        "id": "OQUEbdYMDkAJ",
        "colab_type": "text"
      },
      "source": [
        "# Here's a bunch of trajectories with random initial conditions:"
      ]
    },
    {
      "cell_type": "code",
      "metadata": {
        "id": "4kiuKQe0DUj_",
        "colab_type": "code",
        "colab": {
          "base_uri": "https://localhost:8080/",
          "height": 265
        },
        "outputId": "3a650e8d-66ae-41c4-df89-22b0c8856b7d"
      },
      "source": [
        "for i in range(10):\n",
        "  plt.plot(p[i, :, 0], p[i, :, 1])"
      ],
      "execution_count": 7,
      "outputs": [
        {
          "output_type": "display_data",
          "data": {
            "image/png": "[encoded data removed]",
            "text/plain": [
              "<Figure size 432x288 with 1 Axes>"
            ]
          },
          "metadata": {
            "tags": [],
            "needs_background": "light"
          }
        }
      ]
    },
    {
      "cell_type": "code",
      "metadata": {
        "id": "SzlqgqciDYyr",
        "colab_type": "code",
        "colab": {}
      },
      "source": [
        "from torch.utils.data import DataLoader, TensorDataset"
      ],
      "execution_count": 21,
      "outputs": []
    },
    {
      "cell_type": "markdown",
      "metadata": {
        "id": "4BlP16BNKEkB",
        "colab_type": "text"
      },
      "source": [
        "# Let's take the derivative of the neural network to use as our parameter updates:"
      ]
    },
    {
      "cell_type": "code",
      "metadata": {
        "id": "O3-5mmEtE2zx",
        "colab_type": "code",
        "colab": {
          "base_uri": "https://localhost:8080/",
          "height": 251
        },
        "outputId": "d8d933e6-9342-4622-f596-3446672e954b"
      },
      "source": [
        "tp = torch.from_numpy(p.astype(np.float32)).cuda()\n",
        "tv = torch.from_numpy(v.astype(np.float32)).cuda()\n",
        "\n",
        "\n",
        "#Arrange into [v0, v1, x0, x1]\n",
        "X = torch.cat((tp[:, :-1], tv[:, :-1]), dim=2)[..., [2, 3, 0, 1]]\n",
        "y = torch.cat((tp[:, 1:], tv[:, 1:]), dim=2)[..., [2, 3, 0, 1]]\n",
        "\n",
        "M = torch.eye(n_coordinates*2).cuda()\n",
        "M = torch.cat([M[n_coordinates:], -M[:n_coordinates]])\n",
        "print(str(M))\n",
        "\n",
        "# Base model (calculates H)\n",
        "act = nn.Softplus\n",
        "model = nn.Sequential(\n",
        "    nn.Linear(n_coordinates*2, hidden), act(),\n",
        "    nn.Linear(hidden, hidden), act(),\n",
        "    nn.Linear(hidden, hidden), act(),\n",
        "    nn.Linear(hidden, 1)\n",
        ").cuda()\n",
        "opt = torch.optim.Adam(model.parameters(), lr=1e-4)\n",
        "print(str(model.parameters))\n",
        "# Differentiates H and returns the derivatives of the canonical variables:\n",
        "def canonical_model(cX):\n",
        "  cX = torch.autograd.Variable(cX, requires_grad=True)\n",
        "  # The final matrix multiply (@) here simply moves dH/dx to pdot, and dH/dp to xdot.\n",
        "  return torch.autograd.grad(model(cX).sum(), cX, create_graph=True)[0] @ M.t()"
      ],
      "execution_count": 22,
      "outputs": [
        {
          "output_type": "stream",
          "text": [
            "tensor([[ 0.,  0.,  1.,  0.],\n",
            "        [ 0.,  0.,  0.,  1.],\n",
            "        [-1., -0., -0., -0.],\n",
            "        [-0., -1., -0., -0.]], device='cuda:0')\n",
            "<bound method Module.parameters of Sequential(\n",
            "  (0): Linear(in_features=4, out_features=400, bias=True)\n",
            "  (1): Softplus(beta=1, threshold=20)\n",
            "  (2): Linear(in_features=400, out_features=400, bias=True)\n",
            "  (3): Softplus(beta=1, threshold=20)\n",
            "  (4): Linear(in_features=400, out_features=400, bias=True)\n",
            "  (5): Softplus(beta=1, threshold=20)\n",
            "  (6): Linear(in_features=400, out_features=1, bias=True)\n",
            ")>\n"
          ],
          "name": "stdout"
        }
      ]
    },
    {
      "cell_type": "markdown",
      "metadata": {
        "id": "erLGdeEpR1Nd",
        "colab_type": "text"
      },
      "source": [
        "# Here we set up our dataset to train on :"
      ]
    },
    {
      "cell_type": "code",
      "metadata": {
        "id": "cMWnm2GDE9kt",
        "colab_type": "code",
        "colab": {}
      },
      "source": [
        "trainset = TensorDataset(X[:N*3//4*300].reshape(-1, 4), y[:N*3//4*300].reshape(-1, 4))\n",
        "testset = TensorDataset(X[N*3//4*300:].reshape(-1, 4), y[N*3//4*300:].reshape(-1, 4))\n",
        "train = DataLoader(trainset, shuffle=True, batch_size=512)\n",
        "test = DataLoader(testset, shuffle=False, batch_size=512)"
      ],
      "execution_count": 51,
      "outputs": []
    },
    {
      "cell_type": "code",
      "metadata": {
        "id": "xK8XQjnMJx7D",
        "colab_type": "code",
        "colab": {}
      },
      "source": [
        "loss_fn = nn.MSELoss()\n",
        "\n"
      ],
      "execution_count": 24,
      "outputs": []
    },
    {
      "cell_type": "code",
      "metadata": {
        "id": "ylEajkdDF6Ne",
        "colab_type": "code",
        "colab": {
          "base_uri": "https://localhost:8080/",
          "height": 197
        },
        "outputId": "055d6ccc-2db9-4a3d-94a7-c29370faca77"
      },
      "source": [
        "for _ in range(10):\n",
        "  all_loss = 0.0\n",
        "  for (cX, cy) in train:\n",
        "    test_y = canonical_model(cX)\n",
        "    loss = loss_fn(test_y, cy-cX)\n",
        "    loss.backward()\n",
        "    opt.step()\n",
        "    opt.zero_grad()\n",
        "    all_loss += loss.item()*512\n",
        "\n",
        "  print(all_loss/len(trainset))"
      ],
      "execution_count": 25,
      "outputs": [
        {
          "output_type": "stream",
          "text": [
            "3.073237637277104e-05\n",
            "3.050092059387327e-07\n",
            "2.649890986439142e-07\n",
            "2.539845538667132e-07\n",
            "2.255563012840258e-07\n",
            "1.9774667286533598e-07\n",
            "1.768705462144799e-07\n",
            "1.6657012783290992e-07\n",
            "1.5248667212213398e-07\n",
            "1.4196098601379074e-07\n"
          ],
          "name": "stdout"
        }
      ]
    },
    {
      "cell_type": "markdown",
      "metadata": {
        "id": "B4i4elzk5OH3",
        "colab_type": "text"
      },
      "source": [
        "Here we can look at the prediction:"
      ]
    },
    {
      "cell_type": "code",
      "metadata": {
        "id": "g_TZeEepGbjb",
        "colab_type": "code",
        "colab": {}
      },
      "source": [
        "for (cX, cy) in test:\n",
        "  test_y = canonical_model(cX)\n",
        "  break\n"
      ],
      "execution_count": 26,
      "outputs": []
    },
    {
      "cell_type": "code",
      "metadata": {
        "id": "KOBm4q8JJ29v",
        "colab_type": "code",
        "colab": {
          "base_uri": "https://localhost:8080/",
          "height": 287
        },
        "outputId": "c8a5e190-e4d2-44d0-f02b-c64c47a9185f"
      },
      "source": [
        "test_y, cy - cX"
      ],
      "execution_count": 27,
      "outputs": [
        {
          "output_type": "execute_result",
          "data": {
            "text/plain": [
              "(tensor([[-1.8186e-04, -9.7249e-02,  7.0780e-03, -2.5414e-01],\n",
              "         [-2.0863e-05, -9.7764e-02,  9.3496e-03, -9.0006e-02],\n",
              "         [-4.0927e-05, -9.7759e-02,  2.4727e-04, -1.4475e-01],\n",
              "         ...,\n",
              "         [-2.4477e-05, -9.7743e-02,  7.0114e-03, -5.3907e-02],\n",
              "         [-1.9828e-04, -9.7468e-02,  9.4023e-03, -2.4692e-01],\n",
              "         [-4.2857e-05, -9.7829e-02,  8.4551e-03, -7.7036e-02]], device='cuda:0',\n",
              "        grad_fn=<MmBackward>),\n",
              " tensor([[ 0.0000e+00, -9.8101e-02,  7.3617e-03, -2.5644e-01],\n",
              "         [ 0.0000e+00, -9.8101e-02,  9.2757e-03, -9.0860e-02],\n",
              "         [ 0.0000e+00, -9.8100e-02,  2.1893e-04, -1.4599e-01],\n",
              "         ...,\n",
              "         [ 0.0000e+00, -9.8100e-02,  6.9170e-03, -5.4635e-02],\n",
              "         [ 0.0000e+00, -9.8099e-02,  9.6478e-03, -2.4870e-01],\n",
              "         [ 0.0000e+00, -9.8100e-02,  8.4169e-03, -7.7785e-02]], device='cuda:0'))"
            ]
          },
          "metadata": {
            "tags": []
          },
          "execution_count": 27
        }
      ]
    },
    {
      "cell_type": "markdown",
      "metadata": {
        "id": "HbDa9QVlSg2E",
        "colab_type": "text"
      },
      "source": [
        "# As we can see, the Hamiltonian NN has very closely learned the dynamics with very little training"
      ]
    },
    {
      "cell_type": "markdown",
      "metadata": {
        "id": "uCYoR7Ct4obF",
        "colab_type": "text"
      },
      "source": [
        "# Homework problems:\n",
        "0. Plot the resultant trajectories of a HNN.\n",
        "1. Plot H over the relevant parameter space. Create a vector field showing its predicted path.\n",
        "2. Write an RK4 method for this neural network."
      ]
    },
    {
      "cell_type": "code",
      "metadata": {
        "id": "8iFDoU4w5eN8",
        "colab_type": "code",
        "colab": {
          "base_uri": "https://localhost:8080/",
          "height": 35
        },
        "outputId": "8c577dee-43d6-4679-fa20-9202ec9cfd8b"
      },
      "source": [
        "cy.shape\n",
        "\n"
      ],
      "execution_count": 32,
      "outputs": [
        {
          "output_type": "execute_result",
          "data": {
            "text/plain": [
              "torch.Size([488, 4])"
            ]
          },
          "metadata": {
            "tags": []
          },
          "execution_count": 32
        }
      ]
    },
    {
      "cell_type": "code",
      "metadata": {
        "id": "AcGGvjFdvcYj",
        "colab_type": "code",
        "colab": {
          "base_uri": "https://localhost:8080/",
          "height": 172
        },
        "outputId": "a7f47599-b982-4f70-e997-b4b5eae2392e"
      },
      "source": [
        "test.dataset.tensors\n"
      ],
      "execution_count": 70,
      "outputs": [
        {
          "output_type": "error",
          "ename": "TypeError",
          "evalue": "ignored",
          "traceback": [
            "\u001b[0;31m---------------------------------------------------------------------------\u001b[0m",
            "\u001b[0;31mTypeError\u001b[0m                                 Traceback (most recent call last)",
            "\u001b[0;32m<ipython-input-70-0ebfbb00124c>\u001b[0m in \u001b[0;36m<module>\u001b[0;34m()\u001b[0m\n\u001b[0;32m----> 1\u001b[0;31m \u001b[0mtest\u001b[0m\u001b[0;34m.\u001b[0m\u001b[0mdataset\u001b[0m\u001b[0;34m.\u001b[0m\u001b[0mtensors\u001b[0m\u001b[0;34m.\u001b[0m\u001b[0m__getitem__\u001b[0m\u001b[0;34m(\u001b[0m\u001b[0;34m)\u001b[0m\u001b[0;34m\u001b[0m\u001b[0;34m\u001b[0m\u001b[0m\n\u001b[0m",
            "\u001b[0;31mTypeError\u001b[0m: expected 1 arguments, got 0"
          ]
        }
      ]
    },
    {
      "cell_type": "code",
      "metadata": {
        "colab_type": "code",
        "id": "pbVwOnCVkL4P",
        "colab": {
          "base_uri": "https://localhost:8080/",
          "height": 283
        },
        "outputId": "c67cff85-d9f6-4596-d630-53ea8c25aac9"
      },
      "source": [
        "mycy=cy.cpu()\n",
        "mycx = cX.cpu()\n",
        "\n",
        "\n",
        "\n",
        "\n",
        "plt.plot(mycx[:10, 0], mycx[:10, 1])"
      ],
      "execution_count": 42,
      "outputs": [
        {
          "output_type": "execute_result",
          "data": {
            "text/plain": [
              "[<matplotlib.lines.Line2D at 0x7f05818cb748>]"
            ]
          },
          "metadata": {
            "tags": []
          },
          "execution_count": 42
        },
        {
          "output_type": "display_data",
          "data": {
            "image/png": "[encoded data removed]",
            "text/plain": [
              "<Figure size 432x288 with 1 Axes>"
            ]
          },
          "metadata": {
            "tags": [],
            "needs_background": "light"
          }
        }
      ]
    }
  ]
}